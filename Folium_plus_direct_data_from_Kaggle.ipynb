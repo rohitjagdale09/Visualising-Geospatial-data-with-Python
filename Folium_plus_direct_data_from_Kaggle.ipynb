{
  "nbformat": 4,
  "nbformat_minor": 0,
  "metadata": {
    "colab": {
      "name": "Folium plus direct data from Kaggle.ipynb",
      "provenance": [],
      "collapsed_sections": []
    },
    "kernelspec": {
      "name": "python3",
      "display_name": "Python 3"
    },
    "language_info": {
      "name": "python"
    }
  },
  "cells": [
    {
      "cell_type": "markdown",
      "metadata": {
        "id": "N9PAz-sPSjoE"
      },
      "source": [
        "How to fetch Kaggle Datasets into Google Colab\n",
        "https://medium.com/analytics-vidhya/how-to-fetch-kaggle-datasets-into-google-colab-ea682569851a"
      ]
    },
    {
      "cell_type": "code",
      "metadata": {
        "colab": {
          "base_uri": "https://localhost:8080/"
        },
        "id": "fCZLL3o3PI5l",
        "outputId": "6dd641be-0607-48a7-ca9a-de0d4d7351c9"
      },
      "source": [
        "from google.colab import drive\n",
        "drive.mount('/content/gdrive')"
      ],
      "execution_count": null,
      "outputs": [
        {
          "output_type": "stream",
          "text": [
            "Drive already mounted at /content/gdrive; to attempt to forcibly remount, call drive.mount(\"/content/gdrive\", force_remount=True).\n"
          ],
          "name": "stdout"
        }
      ]
    },
    {
      "cell_type": "code",
      "metadata": {
        "id": "FzWyxVFnRJPB"
      },
      "source": [
        "# import os\n",
        "# os.environ['KAGGLE_CONFIG_DIR'] = \"/content/gdrive/My Drive/Kaggle\"\n",
        "# # /content/gdrive/My Drive/Kaggle is the path where kaggle.json is present in the Google Drive"
      ],
      "execution_count": null,
      "outputs": []
    },
    {
      "cell_type": "code",
      "metadata": {
        "colab": {
          "base_uri": "https://localhost:8080/"
        },
        "id": "sy1Z9PneRiei",
        "outputId": "9189182e-ef37-4686-e033-326f3d262ed6"
      },
      "source": [
        "#changing the working directory\n",
        "%cd /content/gdrive/My Drive/Kaggle\n",
        "#Check the present working directory using pwd command"
      ],
      "execution_count": null,
      "outputs": [
        {
          "output_type": "stream",
          "text": [
            "/content/gdrive/My Drive/Kaggle\n"
          ],
          "name": "stdout"
        }
      ]
    },
    {
      "cell_type": "code",
      "metadata": {
        "colab": {
          "base_uri": "https://localhost:8080/"
        },
        "id": "sHTviW9hRmPX",
        "outputId": "a758d32c-0658-4d27-f14c-d9afdb424276"
      },
      "source": [
        "!pwd"
      ],
      "execution_count": null,
      "outputs": [
        {
          "output_type": "stream",
          "text": [
            "/content/gdrive/My Drive/Kaggle\n"
          ],
          "name": "stdout"
        }
      ]
    },
    {
      "cell_type": "code",
      "metadata": {
        "id": "dbeBlnvARtWB"
      },
      "source": [
        "# !kaggle datasets download -d worldbank/world-development-indicators"
      ],
      "execution_count": null,
      "outputs": []
    },
    {
      "cell_type": "code",
      "metadata": {
        "id": "BVulmGnoR_tq"
      },
      "source": [
        "# !ls"
      ],
      "execution_count": null,
      "outputs": []
    },
    {
      "cell_type": "code",
      "metadata": {
        "id": "s1-7rUC8SIZ-"
      },
      "source": [
        "#unzipping the zip files and deleting the zip files\n",
        "# !unzip \\*.zip  && rm *.zip"
      ],
      "execution_count": null,
      "outputs": []
    },
    {
      "cell_type": "markdown",
      "metadata": {
        "id": "4omuzdx9S0IO"
      },
      "source": [
        "## Visualising Geospatial data with Python\n",
        "https://www.kdnuggets.com/2018/09/visualising-geospatial-data-python-folium.html#.YIt7r8-5dEo.whatsapp"
      ]
    },
    {
      "cell_type": "code",
      "metadata": {
        "id": "lep_p_-bSNvs"
      },
      "source": [
        "import folium\n",
        "import pandas as pd"
      ],
      "execution_count": null,
      "outputs": []
    },
    {
      "cell_type": "code",
      "metadata": {
        "id": "2cPlw6aXTDkG",
        "colab": {
          "base_uri": "https://localhost:8080/",
          "height": 206
        },
        "outputId": "a288ccd7-7725-459e-c6ea-3c7350ad82a8"
      },
      "source": [
        "country_geo = 'world-countries.json'\n",
        "\n",
        "data = pd.read_csv('Indicators.csv')\n",
        "data.shape\n",
        "\n",
        "data.head()"
      ],
      "execution_count": null,
      "outputs": [
        {
          "output_type": "execute_result",
          "data": {
            "text/html": [
              "<div>\n",
              "<style scoped>\n",
              "    .dataframe tbody tr th:only-of-type {\n",
              "        vertical-align: middle;\n",
              "    }\n",
              "\n",
              "    .dataframe tbody tr th {\n",
              "        vertical-align: top;\n",
              "    }\n",
              "\n",
              "    .dataframe thead th {\n",
              "        text-align: right;\n",
              "    }\n",
              "</style>\n",
              "<table border=\"1\" class=\"dataframe\">\n",
              "  <thead>\n",
              "    <tr style=\"text-align: right;\">\n",
              "      <th></th>\n",
              "      <th>CountryName</th>\n",
              "      <th>CountryCode</th>\n",
              "      <th>IndicatorName</th>\n",
              "      <th>IndicatorCode</th>\n",
              "      <th>Year</th>\n",
              "      <th>Value</th>\n",
              "    </tr>\n",
              "  </thead>\n",
              "  <tbody>\n",
              "    <tr>\n",
              "      <th>0</th>\n",
              "      <td>Arab World</td>\n",
              "      <td>ARB</td>\n",
              "      <td>Adolescent fertility rate (births per 1,000 wo...</td>\n",
              "      <td>SP.ADO.TFRT</td>\n",
              "      <td>1960</td>\n",
              "      <td>1.335609e+02</td>\n",
              "    </tr>\n",
              "    <tr>\n",
              "      <th>1</th>\n",
              "      <td>Arab World</td>\n",
              "      <td>ARB</td>\n",
              "      <td>Age dependency ratio (% of working-age populat...</td>\n",
              "      <td>SP.POP.DPND</td>\n",
              "      <td>1960</td>\n",
              "      <td>8.779760e+01</td>\n",
              "    </tr>\n",
              "    <tr>\n",
              "      <th>2</th>\n",
              "      <td>Arab World</td>\n",
              "      <td>ARB</td>\n",
              "      <td>Age dependency ratio, old (% of working-age po...</td>\n",
              "      <td>SP.POP.DPND.OL</td>\n",
              "      <td>1960</td>\n",
              "      <td>6.634579e+00</td>\n",
              "    </tr>\n",
              "    <tr>\n",
              "      <th>3</th>\n",
              "      <td>Arab World</td>\n",
              "      <td>ARB</td>\n",
              "      <td>Age dependency ratio, young (% of working-age ...</td>\n",
              "      <td>SP.POP.DPND.YG</td>\n",
              "      <td>1960</td>\n",
              "      <td>8.102333e+01</td>\n",
              "    </tr>\n",
              "    <tr>\n",
              "      <th>4</th>\n",
              "      <td>Arab World</td>\n",
              "      <td>ARB</td>\n",
              "      <td>Arms exports (SIPRI trend indicator values)</td>\n",
              "      <td>MS.MIL.XPRT.KD</td>\n",
              "      <td>1960</td>\n",
              "      <td>3.000000e+06</td>\n",
              "    </tr>\n",
              "  </tbody>\n",
              "</table>\n",
              "</div>"
            ],
            "text/plain": [
              "  CountryName CountryCode  ...  Year         Value\n",
              "0  Arab World         ARB  ...  1960  1.335609e+02\n",
              "1  Arab World         ARB  ...  1960  8.779760e+01\n",
              "2  Arab World         ARB  ...  1960  6.634579e+00\n",
              "3  Arab World         ARB  ...  1960  8.102333e+01\n",
              "4  Arab World         ARB  ...  1960  3.000000e+06\n",
              "\n",
              "[5 rows x 6 columns]"
            ]
          },
          "metadata": {
            "tags": []
          },
          "execution_count": 32
        }
      ]
    },
    {
      "cell_type": "code",
      "metadata": {
        "id": "48H9q8ySTwsH"
      },
      "source": [
        "# select Life expectancy for females for all countries in 2013\n",
        "hist_indicator =  'Life expectancy at birth'\n",
        "hist_year = 2013\n",
        "\n",
        "mask1 = data['IndicatorName'].str.contains(hist_indicator) \n",
        "mask2 = data['Year'].isin([hist_year])\n",
        "\n",
        "# apply our mask\n",
        "stage = data[mask1 & mask2]\n",
        "stage.head()\n",
        "\n",
        "#Creating a data frame with just the country codes and the values we want plotted.\n",
        "data_to_plot = stage[['CountryCode','Value']]\n",
        "data_to_plot.head()\n",
        "\n",
        "# labelling the legend\n",
        "hist_indicator = stage.iloc[0]['IndicatorName']"
      ],
      "execution_count": null,
      "outputs": []
    },
    {
      "cell_type": "markdown",
      "metadata": {
        "id": "Oi2VH3ZIbKcF"
      },
      "source": [
        "## The ‘key on’ parameter refers to the label in the json object which has the country code as the feature ID attached to each country’s border information. \n",
        "\n",
        "## This it the tie that we need to set up in our data. Our country code in the data frame should match the feature ID in the json object."
      ]
    },
    {
      "cell_type": "code",
      "metadata": {
        "colab": {
          "base_uri": "https://localhost:8080/"
        },
        "id": "WDhUzFAjT21v",
        "outputId": "8f5afb1e-b64c-4d50-fa6c-4ae695859226"
      },
      "source": [
        "# Setup a folium map at a high-level zoom\n",
        "map = folium.Map(location=[100, 0], zoom_start=1)\n",
        "\n",
        "# choropleth maps bind Pandas Data Frames and json geometries.\n",
        "#This allows us to quickly visualize data combinations\n",
        "map.choropleth(geo_data=country_geo, data=data_to_plot,\n",
        "             columns=['CountryCode', 'Value'],\n",
        "             key_on='feature.id',\n",
        "             fill_color='YlGnBu', fill_opacity=0.7, line_opacity=0.2,\n",
        "             legend_name=hist_indicator)"
      ],
      "execution_count": 42,
      "outputs": [
        {
          "output_type": "stream",
          "text": [
            "/usr/local/lib/python3.7/dist-packages/folium/folium.py:426: FutureWarning: The choropleth  method has been deprecated. Instead use the new Choropleth class, which has the same arguments. See the example notebook 'GeoJSON_and_choropleth' for how to do this.\n",
            "  FutureWarning\n"
          ],
          "name": "stderr"
        }
      ]
    },
    {
      "cell_type": "code",
      "metadata": {
        "colab": {
          "base_uri": "https://localhost:8080/",
          "height": 475
        },
        "id": "QF6WWI8xUVJc",
        "outputId": "604ec851-b35b-45c9-8176-e85036d0e966"
      },
      "source": [
        "map.save('plot_data.html')\n",
        "# Import the Folium interactive html file\n",
        "\n",
        "\n",
        "from IPython.display import HTML\n",
        "HTML('<iframe src=plot_data.html width=700 height=450></iframe>')"
      ],
      "execution_count": 43,
      "outputs": [
        {
          "output_type": "execute_result",
          "data": {
            "text/html": [
              "<iframe src=plot_data.html width=700 height=450></iframe>"
            ],
            "text/plain": [
              "<IPython.core.display.HTML object>"
            ]
          },
          "metadata": {
            "tags": []
          },
          "execution_count": 43
        }
      ]
    },
    {
      "cell_type": "code",
      "metadata": {
        "id": "D-_o4eH_U2GL"
      },
      "source": [
        ""
      ],
      "execution_count": null,
      "outputs": []
    }
  ]
}